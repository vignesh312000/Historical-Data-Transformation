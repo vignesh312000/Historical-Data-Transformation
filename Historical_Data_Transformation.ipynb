{
  "nbformat": 4,
  "nbformat_minor": 0,
  "metadata": {
    "colab": {
      "provenance": []
    },
    "kernelspec": {
      "name": "python3",
      "display_name": "Python 3"
    },
    "language_info": {
      "name": "python"
    }
  },
  "cells": [
    {
      "cell_type": "code",
      "source": [
        "import pandas as pd\n",
        "import csv\n",
        "from datetime import datetime, timedelta\n",
        "import numpy as np"
      ],
      "metadata": {
        "id": "hPBE8IrCeoOh"
      },
      "execution_count": 1,
      "outputs": []
    },
    {
      "cell_type": "code",
      "execution_count": null,
      "metadata": {
        "id": "API6Kz-Idh4z"
      },
      "outputs": [],
      "source": [
        "from google.colab import drive\n",
        "drive.mount('/content/drive')"
      ]
    },
    {
      "cell_type": "code",
      "source": [
        "input_file=\"/content/drive/MyDrive/input.csv\""
      ],
      "metadata": {
        "id": "_OuGph3PjJQ1"
      },
      "execution_count": 3,
      "outputs": []
    },
    {
      "cell_type": "code",
      "source": [
        "df = pd.read_csv(input_file)"
      ],
      "metadata": {
        "id": "8Rk8IDHejHsu"
      },
      "execution_count": 4,
      "outputs": []
    },
    {
      "cell_type": "code",
      "source": [
        "df.head()\n"
      ],
      "metadata": {
        "id": "OdNj8rwretws"
      },
      "execution_count": null,
      "outputs": []
    },
    {
      "cell_type": "code",
      "source": [
        "# Check for missing values\n",
        "print(\"Missing values in each column:\")\n",
        "print(df.isnull().sum())\n",
        "\n",
        "# Investigate missing values in the 'Compensation' column\n",
        "print(\"\\nSummary statistics for Compensation column:\")\n",
        "print(df['Compensation'].describe())\n",
        "\n"
      ],
      "metadata": {
        "id": "STGQspU-kioE"
      },
      "execution_count": null,
      "outputs": []
    },
    {
      "cell_type": "code",
      "source": [
        "# Convert date columns to datetime objects\n",
        "date_columns = ['Date of Joining', 'Date of Exit', 'Compensation 1 date', 'Compensation 2 date',\n",
        "                'Review 1 date', 'Review 2 date', 'Engagement 1 date', 'Engagement 2 date']\n",
        "for col in date_columns:\n",
        "    df[col] = pd.to_datetime(df[col])\n",
        "\n",
        "# Function to derive effective and end dates\n",
        "def derive_dates(row):\n",
        "    if pd.isnull(row['Date of Exit']):\n",
        "        end_date = datetime(2100, 1, 1)\n",
        "    else:\n",
        "        end_date = row['Date of Exit'] - timedelta(days=1)\n",
        "    return pd.Series([row['Date of Joining'], end_date])\n",
        "\n",
        "# Apply function to derive dates\n",
        "df[['Effective Date', 'End Date']] = df.apply(derive_dates, axis=1)\n",
        "\n",
        "# Fill missing values with the most recent past record for the same employee\n",
        "df = df.ffill()\n",
        "\n",
        "# Create list to hold records\n",
        "records = []\n",
        "\n",
        "# Iterate over each row to generate historical records\n",
        "for index, row in df.iterrows():\n",
        "    last_compensation = None\n",
        "    last_pay_raise_date = None\n",
        "\n",
        "    # Generate quarterly intervals between 'Effective Date' and 'End Date'\n",
        "    quarter_intervals = pd.date_range(start=row['Effective Date'], end=row['End Date'], freq='Q')\n",
        "\n",
        "    # Iterate over each quarterly interval\n",
        "    for i in range(len(quarter_intervals) - 1):\n",
        "        start_date = quarter_intervals[i]\n",
        "        end_date = quarter_intervals[i + 1] - timedelta(days=1)\n",
        "\n",
        "        # Generate a historical record for each quarterly interval\n",
        "        record = {\n",
        "            'Employee Code': row['Employee Code'],\n",
        "            'Manager Employee Code': row['Manager Employee Code'],\n",
        "            'Last Compensation': last_compensation,\n",
        "            'Compensation': row['Compensation'],\n",
        "            'Last Pay Raise Date': last_pay_raise_date,\n",
        "            'Variable Pay': row['Compensation 1'],\n",
        "            'Tenure in Org': (end_date - row['Date of Joining']).days,\n",
        "            'Performance Rating': row['Review 2'],\n",
        "            'Engagement Score': row['Engagement 2'],\n",
        "            'Effective Date': start_date,\n",
        "            'End Date': end_date\n",
        "        }\n",
        "\n",
        "        # Update last compensation and last pay raise date for the next iteration\n",
        "        last_compensation = row['Compensation']\n",
        "        last_pay_raise_date = row['Compensation 2 date']\n",
        "\n",
        "        # Append the record to the list\n",
        "        records.append(record)\n",
        "\n",
        "# Create output DataFrame by concatenating records\n",
        "output_df = pd.DataFrame(records)\n",
        "\n",
        "# Write output to CSV file\n",
        "output_df.to_csv(\"output_file.csv\", index=False)"
      ],
      "metadata": {
        "id": "ebz6RQ7hipmZ"
      },
      "execution_count": 11,
      "outputs": []
    },
    {
      "cell_type": "code",
      "source": [],
      "metadata": {
        "id": "WcV4Oaomn6sb"
      },
      "execution_count": null,
      "outputs": []
    }
  ]
}